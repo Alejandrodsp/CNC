{
  "nbformat": 4,
  "nbformat_minor": 0,
  "metadata": {
    "colab": {
      "name": "Relatorio3_Alejandro.ipynb",
      "provenance": [],
      "collapsed_sections": []
    },
    "kernelspec": {
      "name": "python3",
      "display_name": "Python 3"
    }
  },
  "cells": [
    {
      "cell_type": "markdown",
      "metadata": {
        "id": "9UrXwMDAeDNG"
      },
      "source": [
        "#Bibliotecas\n"
      ]
    },
    {
      "cell_type": "code",
      "metadata": {
        "id": "fi0lgc97d_eS"
      },
      "source": [
        "import matplotlib.pyplot as plt\n",
        "import matplotlib.patches as mpatches\n",
        "import numpy as np\n",
        "from scipy import interpolate\n",
        "import math\n",
        "from sympy import Symbol\n",
        "import sympy as sym"
      ],
      "execution_count": null,
      "outputs": []
    },
    {
      "cell_type": "markdown",
      "metadata": {
        "id": "Y9rV5pFKeYFc"
      },
      "source": [
        "# Métodos"
      ]
    },
    {
      "cell_type": "markdown",
      "metadata": {
        "id": "gXgLjQRIV4AG"
      },
      "source": [
        "###Lagrange"
      ]
    },
    {
      "cell_type": "code",
      "metadata": {
        "id": "LCnO2MjVV6e3"
      },
      "source": [
        "def lagrange(x, y, z):\n",
        "  r = 0\n",
        "  n = len(x)\n",
        "  for i in range(n):\n",
        "    c, d = 1, 1\n",
        "    for j in range(n):\n",
        "      if i != j:\n",
        "        c *= (z - x[j])\n",
        "        d *= (x[i] - x[j])\n",
        "    r += y[i] * c/d\n",
        "  return r"
      ],
      "execution_count": null,
      "outputs": []
    },
    {
      "cell_type": "code",
      "metadata": {
        "id": "u1e3U4-tKnZs"
      },
      "source": [
        "def lagrange_polinomio(X, FX):\n",
        " x = Symbol('x')\n",
        "\n",
        " n = len(X)\n",
        "\n",
        " L = []\n",
        "\n",
        " for i in range(n):\n",
        "   arrayaux = np.arange(n)\n",
        "   arrayaux = list(arrayaux)\n",
        "   arrayaux.remove(i)\n",
        "\n",
        "   numLi = 1\n",
        "   denLi = 1\n",
        "\n",
        "   for j in arrayaux:\n",
        "     numLi = numLi * (x - X[j])\n",
        "     denLi = denLi * (X[i] - X[j])\n",
        "   Li = numLi/denLi\n",
        "\n",
        "   L.append(sym.expand(Li))\n",
        " p = np.sum(FX*np.array(L))\n",
        "\n",
        " return p"
      ],
      "execution_count": null,
      "outputs": []
    },
    {
      "cell_type": "markdown",
      "metadata": {
        "id": "iONZkAJcV8Sn"
      },
      "source": [
        "###Newton"
      ]
    },
    {
      "cell_type": "code",
      "metadata": {
        "id": "D5GLwlRIV_vH"
      },
      "source": [
        "def newton(x, y, z):\n",
        "    r = 0\n",
        "    n = len(x)\n",
        "    dely = [0] * n\n",
        "    for i in range(n):\n",
        "        dely[i] = y[i]\n",
        "    \n",
        "    for k in range(1,n):\n",
        "        for i in range(n,k,-1):\n",
        "            dely[i-1] =(dely[i-1] - dely[i-1-1])/(x[i-1]-x[i-k-1])\n",
        "    \n",
        "    r = dely[n-1]\n",
        "        \n",
        "    for i in range(n-1, 0, -1):\n",
        "        r = r * (z -x[i-1]) + dely[i-1]\n",
        "    \n",
        "    return r"
      ],
      "execution_count": null,
      "outputs": []
    },
    {
      "cell_type": "markdown",
      "metadata": {
        "id": "ombXsxAQWBWe"
      },
      "source": [
        "###Spline Cúbica Natural"
      ]
    },
    {
      "cell_type": "code",
      "metadata": {
        "id": "mIQQ7oSKWFfX"
      },
      "source": [
        "def cubic_spline(x, y, n):\n",
        "  h = [0] * (n+1)\n",
        "  a = [0] * (n+1)\n",
        "\n",
        "  for i in range(n):\n",
        "    h[i] = (x[i+1] - x[i])\n",
        "\n",
        "  for i in range(1, n):\n",
        "    a[i] = ((3/h[i]) * (y[i+1] - y[i]) - (3/h[i-1]) * (y[i] - y[i-1]))\n",
        "    \n",
        "  l = [0] * (n+1)\n",
        "  l[0] = 1\n",
        "  u = [0] * (n+1)\n",
        "  z = [0] * (n+1)\n",
        "  \n",
        "  for i in range(1, n):\n",
        "    l[i] = ((2*(x[i+1]-x[i-1])) - (h[i-1] * u[i-1]))\n",
        "    u[i] = h[i]/l[i]\n",
        "    z[i] = ((a[i] - (h[i-1] * z[i-1]))/l[i])\n",
        "\n",
        "  l[n] = 1\n",
        "  z[n] = 0\n",
        "  b  = [0] * (n+1)\n",
        "  d =  [0] * (n+1)\n",
        "  c =  [0] * (n+1)\n",
        "  c[n] = 0\n",
        "  for i in range(n-1, -1, -1):\n",
        "    c[i] = (z[i] - (u[i]*c[i+1]))\n",
        "    b[i] = ((((y[i+1]-y[i])/h[i]) - ((h[i]*(c[i+1]+2*c[i]))/3)))\n",
        "    d[i] = (((c[i+1]-c[i])/(3*h[i])))\n",
        "\n",
        "  s = []\n",
        "\n",
        "  for i in range(n):\n",
        "    print(f'S{i+1} = {round(d[i], 6)}*(x - {x[i]})³ + {round(c[i], 6)}*(x - {x[i]})² + {round(b[i], 6)}*(x - {x[i]}) + {y[i]}')\n",
        "    s.append(lambda w, j=i: d[j]*((w-x[j])**3) + c[j]*((w-x[j])**2) + b[j]*(w-x[j]) + y[j])\n",
        "\n",
        "  return s"
      ],
      "execution_count": null,
      "outputs": []
    },
    {
      "cell_type": "markdown",
      "metadata": {
        "id": "pVk_caDxWLs_"
      },
      "source": [
        "###Métodos dos Mínimos Quadrados"
      ]
    },
    {
      "cell_type": "code",
      "metadata": {
        "id": "v0eoB2v-WXhv"
      },
      "source": [
        "def mmq(x, y):\n",
        "  n = len(x)\n",
        "  sum_x = sum(x)\n",
        "  sum_y = sum(y)\n",
        "  sum_xy = sum(xi * yi for xi, yi in zip(x, y))\n",
        "  sum_x2 = sum(xi**2 for xi in x)\n",
        "\n",
        "  xm = sum_x/n\n",
        "  ym = sum_y/n\n",
        "  a1 = (n*sum_xy - sum_x*sum_y) / (n*sum_x2 - sum_x*sum_x)\n",
        "  a0 = ym - a1*xm\n",
        "\n",
        "  st,sr = 0,0\n",
        "  for i in range(n):\n",
        "    st += (y[i] - ym)**2\n",
        "    sr += (y[i] - a1*x[i] - a0)**2\n",
        "  \n",
        "  syx = (sr/(n-2))**0.5\n",
        "  r2 = (st - sr)/st\n",
        "  return syx, r2, a1, a0"
      ],
      "execution_count": null,
      "outputs": []
    },
    {
      "cell_type": "code",
      "metadata": {
        "id": "e97ywifEBOn5"
      },
      "source": [
        "def mmq_qua(x, y):\n",
        "  n = len(x)\n",
        "  sum_x = sum(x)\n",
        "  sum_y = sum(y)\n",
        "  sum_x2 = sum(xi**2 for xi in x)\n",
        "  sum_x2n = (sum_x * sum_x)  /n\n",
        "  sxx = sum_x2 - sum_x2n\n",
        "\n",
        "  sum_xy = sum(xi * yi for xi, yi in zip(x, y))\n",
        "  sum_xyn = (sum_x * sum_y) /n\n",
        "  sxy = sum_xy - sum_xyn\n",
        "\n",
        "  sum_x3 = sum(xi**3 for xi in x)\n",
        "  sum_xx2n = (sum_x * sum_x2) / n\n",
        "  sxx2 = sum_x3 - sum_xx2n\n",
        "\n",
        "  sum_x2y = sum((xi ** 2) * yi for xi, yi in zip(x, y)) \n",
        "  sum_x2yn = (sum_x2 * sum_y) / n\n",
        "  sx2y = sum_x2y - sum_x2yn\n",
        "\n",
        "  sum_x4 = sum(xi**4 for xi in x)\n",
        "  sum_x22n = (sum_x2 ** 2) / n\n",
        "  sx2x2 = sum_x4 - sum_x22n\n",
        "\n",
        "\n",
        "  A = ((sx2y * sxx) - (sxy * sxx2)) / ((sxx * sx2x2) - ((sxx2)**2))\n",
        "\n",
        "  B = ((sxy * sx2x2) - (sx2y * sxx2)) / ((sxx * sx2x2) - ((sxx2)**2))\n",
        "\n",
        "  C = (sum_y / n) - (B * (sum_x / n)) - (A * (sum_x2 / n))\n",
        "\n",
        "  \n",
        "\n",
        "\n",
        "  return A, B, C"
      ],
      "execution_count": null,
      "outputs": []
    },
    {
      "cell_type": "code",
      "metadata": {
        "id": "dAfg79jQBZ0w"
      },
      "source": [
        "def bqua(x, a, b, c):\n",
        "  return a * (x ** 2) +  (b * x) + c"
      ],
      "execution_count": null,
      "outputs": []
    },
    {
      "cell_type": "code",
      "metadata": {
        "id": "_MiIJ-m70uYW"
      },
      "source": [
        "def mmq_exp(x, y):\n",
        "  sum_x = sum(x)\n",
        "  sum_x2 = sum(xi**2 for xi in x)\n",
        "  A = [[len(x), sum_x], [sum_x, sum_x2]]\n",
        "  y_ = [math.log(yi) for yi in y]\n",
        "  sum_xy = sum(xi * yi for xi, yi in zip(x, y_))\n",
        "  B = [sum(y_), sum_xy]\n",
        "  a0, a1 = np.linalg.solve(A,B)\n",
        "  a, b = math.exp(a0), a1\n",
        "  return a, b"
      ],
      "execution_count": null,
      "outputs": []
    },
    {
      "cell_type": "code",
      "metadata": {
        "id": "AM4hToXE00xe"
      },
      "source": [
        "def bexp(x, a, b):\n",
        "  return a * math.exp(b * x)"
      ],
      "execution_count": null,
      "outputs": []
    },
    {
      "cell_type": "markdown",
      "metadata": {
        "id": "1wje0dmreLpQ"
      },
      "source": [
        "# Relatório 3\n"
      ]
    },
    {
      "cell_type": "markdown",
      "metadata": {
        "id": "ySK8ByuPeLAD"
      },
      "source": [
        "##Questão 1 –\n",
        "Considere os dados\n",
        "\n",
        "x    1 2 3   5  6 \n",
        "\n",
        "f(x) 7 4 5,5 40 82\n",
        "\n",
        "a) Calcule f(4) usando polinômios interpoladores de Newton de primeiro a quarto graus. Escolha seus pontos-base para obter uma boa acurácia; ou seja, os pontos devem ser centrados em torno e tão próximo quanto possível do valor desconhecido. O que seus resultados indicam em relação ao grau do polinômio usado para gerar os dados da tabela? **Os resultados indicam que no geral quanto maior o grau do polinômio, ele será mais centrado e próximo do valor desconhecido. Mais específicamente podemos perceber que ao utilizar um polinômio de primeiro grau não conseguimos estimar com uma boa acurácia mesmo escolhendo os pontos-base mais próximos ao valor desconhecido, conforme fomos aumentando o grau do polinômio foi possível perceber a melhora na acurácia, chegando no valor 16 para a f(4) ao utilizar um polinômio de terceiro grau, após isso mesmo ao subir para o quarto grau o valor continuou o mesmo que havia sido estimado ao utilizar o polinômio de terceiro grau.**\n",
        "\n",
        "b) Repita (a), mas utilize polinômios de Lagrange. **Ao utilizar o método de Lagrange foi possível perceber que os resultados também indicam que no geral quanto maior o grau do polinômio, ele será mais centrado e próximo do valor desconhecido. Além disso foi observado que tivemos o mesmo comportamento do item anterior no qual utilizamos o método de Newton, aonde no primeiro grau não obteve uma boa acurácia e o valor para f(4) se estabilizou em 16 a partir do polinômio de terceiro grau. Ao analisar ambos resultados podemos dizer que Lagrange e Newton tiveram desempenhos semelhantes nos mesmos graus.**"
      ]
    },
    {
      "cell_type": "code",
      "metadata": {
        "id": "PnVmpjipefiX",
        "colab": {
          "base_uri": "https://localhost:8080/"
        },
        "outputId": "894298d7-53e8-4fd1-ddf6-cb54009352ff"
      },
      "source": [
        "x1 = [3, 5]\n",
        "y1 = [5.5, 40]\n",
        "z = 4\n",
        "\n",
        "print(f'A f(4) usando polinômios interpoladores de Newton de primeiro grau foi: {int(newton(x1, y1, z))}')\n",
        "\n",
        "x2 = [2, 3, 5]\n",
        "y2 = [4, 5.5, 40]\n",
        "\n",
        "print(f'A f(4) usando polinômios interpoladores de Newton de segundo grau foi: {int(newton(x2, y2, z))}')\n",
        "\n",
        "x3 = [2, 3, 5, 6]\n",
        "y3 = [4, 5.5, 40, 82]\n",
        "\n",
        "print(f'A f(4) usando polinômios interpoladores de Newton de terceiro grau foi: {int(newton(x3, y3, z))}')\n",
        "\n",
        "x4 = [1, 2, 3, 5, 6]\n",
        "y4 = [7, 4, 5.5, 40, 82]\n",
        "\n",
        "print(f'A f(4) usando polinômios interpoladores de Newton de quarto grau foi: {int(newton(x4, y4, z))}')"
      ],
      "execution_count": null,
      "outputs": [
        {
          "output_type": "stream",
          "name": "stdout",
          "text": [
            "A f(4) usando polinômios interpoladores de Newton de primeiro grau foi: 22\n",
            "A f(4) usando polinômios interpoladores de Newton de segundo grau foi: 17\n",
            "A f(4) usando polinômios interpoladores de Newton de terceiro grau foi: 16\n",
            "A f(4) usando polinômios interpoladores de Newton de quarto grau foi: 16\n"
          ]
        }
      ]
    },
    {
      "cell_type": "code",
      "metadata": {
        "colab": {
          "base_uri": "https://localhost:8080/"
        },
        "id": "sW8fxqllayyd",
        "outputId": "0c41a72a-e25c-448f-ccae-5b6a233b92a0"
      },
      "source": [
        "x1 = [3, 5]\n",
        "y1 = [5.5, 40]\n",
        "z = 4\n",
        "\n",
        "print(f'A f(4) usando polinômios interpoladores de Lagrange de primeiro grau foi: {int(lagrange(x1, y1, z))}')\n",
        "\n",
        "x2 = [2, 3, 5]\n",
        "y2 = [4, 5.5, 40]\n",
        "\n",
        "print(f'A f(4) usando polinômios interpoladores de Lagrange de segundo grau foi: {int(lagrange(x2, y2, z))}')\n",
        "\n",
        "x3 = [2, 3, 5, 6]\n",
        "y3 = [4, 5.5, 40, 82]\n",
        "\n",
        "print(f'A f(4) usando polinômios interpoladores de Lagrange de terceiro grau foi: {int(lagrange(x3, y3, z))}')\n",
        "\n",
        "x4 = [1, 2, 3, 5, 6]\n",
        "y4 = [7, 4, 5.5, 40, 82]\n",
        "\n",
        "print(f'A f(4) usando polinômios interpoladores de Lagrange de quarto grau foi: {int(lagrange(x4, y4, z))}')"
      ],
      "execution_count": null,
      "outputs": [
        {
          "output_type": "stream",
          "name": "stdout",
          "text": [
            "A f(4) usando polinômios interpoladores de Lagrange de primeiro grau foi: 22\n",
            "A f(4) usando polinômios interpoladores de Lagrange de segundo grau foi: 17\n",
            "A f(4) usando polinômios interpoladores de Lagrange de terceiro grau foi: 16\n",
            "A f(4) usando polinômios interpoladores de Lagrange de quarto grau foi: 16\n"
          ]
        }
      ]
    },
    {
      "cell_type": "markdown",
      "metadata": {
        "id": "LFCZrxsk4lOM"
      },
      "source": [
        "##Questão 2 –\n",
        " Os dados contidos na tabela abaixo relacionam o peso (y) de embriões de frangos desidratados, em gramas, com sua idade (x) em dias.\n",
        "\n",
        " x(dias) 6 7 8 9 10 11 12 13 14 15 16\n",
        "\n",
        " y 0,029 0,052 0,079 0,125 0,181 0,261 0,425 0,738 1,130 1,882 2,812\n",
        "\n",
        "a) Trace o diagrama de dispersão do conjunto de dados.\n",
        "\n",
        "b) Efetue o ajuste polinomial para o conjunto. Para isso, encontre os ajustes até o polinômio de grau cinco. Usando Newton ou Lagrange.\n",
        "\n",
        "c) Trace o gráfico da curva que representa o melhor ajuste.\n",
        "\n",
        "d) Estime o peso de um embrião de frango no 20o dia de vida."
      ]
    },
    {
      "cell_type": "code",
      "metadata": {
        "id": "NsEQcZT-4uxp",
        "colab": {
          "base_uri": "https://localhost:8080/",
          "height": 295
        },
        "outputId": "d6b4ba3b-f9df-4635-b1cc-be7a25e26f21"
      },
      "source": [
        "X = [6, 7, 8, 9, 10, 11, 12, 13, 14, 15, 16]\n",
        "Y = [0.029, 0.052, 0.079, 0.125, 0.181, 0.261, 0.425, 0.738, 1.130, 1.882, 2.812]\n",
        "\n",
        "plt.scatter(X, Y)\n",
        "plt.title('Dia x peso(g)')\n",
        "plt.xlabel('Dia')\n",
        "plt.ylabel('Peso(g)')\n",
        "plt.show()"
      ],
      "execution_count": null,
      "outputs": [
        {
          "output_type": "display_data",
          "data": {
            "image/png": "[encoded data removed]",
            "text/plain": [
              "<Figure size 432x288 with 1 Axes>"
            ]
          },
          "metadata": {
            "needs_background": "light"
          }
        }
      ]
    },
    {
      "cell_type": "code",
      "metadata": {
        "colab": {
          "base_uri": "https://localhost:8080/"
        },
        "id": "NWl7mvEgRt3o",
        "outputId": "c7f232f5-d35b-43b4-8fe7-f913687bb37c"
      },
      "source": [
        "x = Symbol('x')\n",
        "diferencas = []\n",
        "\n",
        "X1 = [6, 7]\n",
        "Y1 = [0.029, 0.052]\n",
        "p1 = lagrange_polinomio(X1, Y1)\n",
        "print('Polinomio de grau 1:',p1)\n",
        "\n",
        "t = np.linspace(min(X), max(X), 11)\n",
        "k = 0\n",
        "dif = 0\n",
        "for i in t:\n",
        " ps = p1.subs(x, i)\n",
        " dif += abs(Y[k] - ps)\n",
        " k += 1\n",
        "diferencas.append(dif)\n",
        "\n",
        "X2 = [6, 7, 8]\n",
        "Y2 = [0.029, 0.052, 0.079]\n",
        "p2 = lagrange_polinomio(X2, Y2)\n",
        "print('Polinomio de grau 2:', p2)\n",
        "\n",
        "k = 0\n",
        "dif = 0\n",
        "for i in t:\n",
        " ps = p2.subs(x, i)\n",
        " dif += abs(Y[k] - ps)\n",
        " k += 1\n",
        "diferencas.append(dif)\n",
        "\n",
        "X3 = [6, 7, 8, 9]\n",
        "Y3 = [0.029, 0.052, 0.079, 0.125]\n",
        "p3 = lagrange_polinomio(X3, Y3)\n",
        "print('Polinomio de grau 3:', p3)\n",
        "\n",
        "k = 0\n",
        "dif = 0\n",
        "for i in t:\n",
        " ps = p3.subs(x, i)\n",
        " dif += abs(Y[k] - ps)\n",
        " k += 1\n",
        "diferencas.append(dif)\n",
        "\n",
        "X4 = [6, 7, 8, 9, 10]\n",
        "Y4 = [0.029, 0.052, 0.079, 0.125, 0.181]\n",
        "p4 = lagrange_polinomio(X4, Y4)\n",
        "print('Polinomio de grau 4:', p4)\n",
        "\n",
        "k = 0\n",
        "dif = 0\n",
        "for i in t:\n",
        " ps = p4.subs(x, i)\n",
        " dif += abs(Y[k] - ps)\n",
        " k += 1\n",
        "diferencas.append(dif)\n",
        "\n",
        "X5 = [6, 7, 8, 9, 10, 11]\n",
        "Y5 = [0.029, 0.052, 0.079, 0.125, 0.181, 0.261]\n",
        "p5 = lagrange_polinomio(X5, Y5)\n",
        "print('Polinomio de grau 5:', p5)\n",
        "\n",
        "k = 0\n",
        "dif = 0\n",
        "for i in t:\n",
        " ps = p5.subs(x, i)\n",
        " dif += abs(Y[k] - ps)\n",
        " k += 1\n",
        "diferencas.append(dif)\n",
        "\n",
        "print(diferencas)"
      ],
      "execution_count": null,
      "outputs": [
        {
          "output_type": "stream",
          "name": "stdout",
          "text": [
            "Polinomio de grau 1: 0.023*x - 0.109\n",
            "Polinomio de grau 2: 0.002*x**2 - 0.003*x - 0.0249999999999999\n",
            "Polinomio de grau 3: 0.0025*x**3 - 0.0505*x**2 + 0.362*x - 0.864999999999998\n",
            "Polinomio de grau 4: -0.000999999999999998*x**4 + 0.0325*x**3 - 0.3855*x**2 + 2.012*x - 3.88899999999999\n",
            "Polinomio de grau 5: 0.000391666666666666*x**5 - 0.0166666666666667*x**4 + 0.281208333333334*x**3 - 2.34383333333333*x**2 + 9.65889999999997*x - 15.733\n",
            "[6.13000000000000, 5.47000000000000, 1.11000000000000, 11.6080000000002, 10.1060000000203]\n"
          ]
        }
      ]
    },
    {
      "cell_type": "markdown",
      "metadata": {
        "id": "EHfE0upO6wwu"
      },
      "source": [
        "Ao analisar o array de diferenças geradas por cada um dos polinômios podemos perceber que o polinômio de grau 3 tem o melhor ajuste, assim irei plotar seu gráfico a seguir."
      ]
    },
    {
      "cell_type": "code",
      "metadata": {
        "colab": {
          "base_uri": "https://localhost:8080/",
          "height": 265
        },
        "id": "z6XHKQFlxrdb",
        "outputId": "f07f757f-3210-4fb4-90c0-b9388cecc226"
      },
      "source": [
        "X = [6, 7, 8, 9, 10, 11, 12, 13, 14, 15, 16]\n",
        "Y = [0.029, 0.052, 0.079, 0.125, 0.181, 0.261, 0.425, 0.738, 1.130, 1.882, 2.812]\n",
        "x = Symbol('x')\n",
        "valores = []\n",
        "t = np.linspace(min(X), max(X), 11)\n",
        "\n",
        "for i in t:\n",
        " ps = p3.subs(x, i)\n",
        " valores.append(ps)\n",
        "plt.plot(X,valores)\n",
        "plt.scatter(X, Y)\n",
        "plt.show()"
      ],
      "execution_count": null,
      "outputs": [
        {
          "output_type": "display_data",
          "data": {
            "image/png": "[encoded data removed]",
            "text/plain": [
              "<Figure size 432x288 with 1 Axes>"
            ]
          },
          "metadata": {
            "needs_background": "light"
          }
        }
      ]
    },
    {
      "cell_type": "code",
      "metadata": {
        "colab": {
          "base_uri": "https://localhost:8080/"
        },
        "id": "C903Q6qPy7oD",
        "outputId": "627fd4ed-9454-40b6-d235-002dc157da65"
      },
      "source": [
        "f_20 = p3.subs(x, 20)\n",
        "print('O peso estimado de um embrião de frango no 20º dia de vida foi:', round(f_20,3), 'gramas')"
      ],
      "execution_count": null,
      "outputs": [
        {
          "output_type": "stream",
          "name": "stdout",
          "text": [
            "O peso estimado de um embrião de frango no 20º dia de vida foi: 6.175 gramas\n"
          ]
        }
      ]
    },
    {
      "cell_type": "markdown",
      "metadata": {
        "id": "oz27YBGa40x7"
      },
      "source": [
        "## Questão 3 – \n",
        "\n",
        "Os dados a seguir definem a concentração de oxigênio dissolvido na água fresca em função da temperatura no nível do mar:\n",
        "\n",
        "T,oC 0 8 16 24 32 40\n",
        "\n",
        "o, mg/L 14,621 11,843 9,870 8,418 7,305 6,413\n",
        "\n",
        "Estime o(27) usando spline cúbica natural. Observe que o resultado exato é 7,986 mg/L.\n"
      ]
    },
    {
      "cell_type": "code",
      "metadata": {
        "id": "YTxoIvXk41RW",
        "colab": {
          "base_uri": "https://localhost:8080/"
        },
        "outputId": "870e567c-1fe0-449c-c9d3-2dffa1fb3692"
      },
      "source": [
        "x = [0, 8, 16, 24, 32, 40]\n",
        "y = [14.621, 11.843, 9.870, 8.418, 7.305, 6.413]\n",
        "s = cubic_spline(x, y, 4)\n",
        "print(f'O valor estimado para a concentração de oxigênio dissolvido na água à temperatura de 27ºc foi {round((s[3](27)),3)} mg/L')\n"
      ],
      "execution_count": null,
      "outputs": [
        {
          "output_type": "stream",
          "name": "stdout",
          "text": [
            "S1 = 0.00036*(x - 0)³ + 0.0*(x - 0)² + -0.370308*(x - 0) + 14.621\n",
            "S2 = -0.000229*(x - 8)³ + 0.008647*(x - 8)² + -0.301134*(x - 8) + 11.843\n",
            "S3 = 2e-06*(x - 16)³ + 0.003147*(x - 16)² + -0.206781*(x - 16) + 9.87\n",
            "S4 = -0.000133*(x - 24)³ + 0.003186*(x - 24)² + -0.156116*(x - 24) + 8.418\n",
            "O valor estimado para a concentração de oxigênio dissolvido na água à temperatura de 27ºc foi 7.975 mg/L\n"
          ]
        }
      ]
    },
    {
      "cell_type": "markdown",
      "metadata": {
        "id": "qCoibUqY4_Wq"
      },
      "source": [
        "##Questão 4 – \n",
        "Os dados a seguir representam o crescimento bacteriológico em uma cultura liquida durante um certo número de dias:\n",
        "\n",
        "Dia 0 4 8 12 16 20 \n",
        "\n",
        "Quantidade x 10^6 67,38 74,67 82,74 91,69 101,60 112,58 \n",
        "\n",
        "Encontre a equação do melhor ajuste para a tendência dos dados. Use a regressão por mínimos quadrados com as seguintes possibilidades – linear, quadrática e exponencial. Determine a melhor equação para prever a quantidade de bactérias após 30 dias.\n"
      ]
    },
    {
      "cell_type": "markdown",
      "metadata": {
        "id": "4egGpS2kueIt"
      },
      "source": [
        "Nessa questão irei aplicar regressão por mínimos quadrados linear, quadrática e exponencial, e irei comparar os resultados por meio dos gráficos gerados e principalmente por um vetor de diferenças, o qual será gerado comparando os valores de y dados na tabela com os valores aproximados pelas regressões. Após as comparações irei escolher para prever a quantidade de bactérias após 30 dias o modelo que tiver gerado a regressão mais próxima aos valores de y, ou seja, que tiver o menor valor no vetor de diferenças."
      ]
    },
    {
      "cell_type": "code",
      "metadata": {
        "id": "KSvKLU6c4_E1",
        "colab": {
          "base_uri": "https://localhost:8080/",
          "height": 282
        },
        "outputId": "c396862b-037d-432f-e165-b76bd2317f5e"
      },
      "source": [
        "diferencas = []\n",
        "t = np.linspace(min(x), max(x), 6)\n",
        "\n",
        "x = [0, 4, 8, 12, 16, 20]\n",
        "y = [67.38, 74.67, 82.74, 91.69, 101.60, 112.58]\n",
        "syx,r2,a1,a0 = mmq(x, y)\n",
        "print(f'f(x) = ({a1})x + ({a0})')\n",
        "k = 0\n",
        "dif = 0\n",
        "for i in t:\n",
        " ps = a1*i + a0\n",
        " dif += abs(y[k] - ps)\n",
        " k += 1\n",
        "diferencas.append(dif)\n",
        "plt.scatter(x, y)\n",
        "plt.plot(x, a1*np.array(x, dtype='float64') + a0)\n",
        "plt.show()"
      ],
      "execution_count": null,
      "outputs": [
        {
          "output_type": "stream",
          "name": "stdout",
          "text": [
            "f(x) = (2.2552857142857086)x + (65.89047619047625)\n"
          ]
        },
        {
          "output_type": "display_data",
          "data": {
            "image/png": "[encoded data removed]",
            "text/plain": [
              "<Figure size 432x288 with 1 Axes>"
            ]
          },
          "metadata": {
            "needs_background": "light"
          }
        }
      ]
    },
    {
      "cell_type": "code",
      "metadata": {
        "colab": {
          "base_uri": "https://localhost:8080/",
          "height": 282
        },
        "id": "dd5lBU0IBpfx",
        "outputId": "e004368e-379c-4280-a2e1-417cbc3955f8"
      },
      "source": [
        "x = [0, 4, 8, 12, 16, 20]\n",
        "y = [67.38, 74.67, 82.74, 91.69, 101.60, 112.58]\n",
        "\n",
        "a0, a1, a2 = mmq_qua(x, y)\n",
        "print(f'f(x) = ({a0})x² + ({a1})*x + {a2}')\n",
        "t = np.linspace(min(x), max(x), 6)\n",
        "k = 0\n",
        "dif = 0\n",
        "for i in t:\n",
        " ps = bqua(i, a0, a1, a2)\n",
        " dif += abs(y[k] - ps)\n",
        " k += 1\n",
        "diferencas.append(dif)\n",
        "plt.plot(t, [bqua(i, a0, a1, a2) for i in t])\n",
        "plt.scatter(x, y)\n",
        "plt.show()"
      ],
      "execution_count": null,
      "outputs": [
        {
          "output_type": "stream",
          "name": "stdout",
          "text": [
            "f(x) = (0.028805803571430897)x² + (1.6791696428570888)*x + 67.42678571428593\n"
          ]
        },
        {
          "output_type": "display_data",
          "data": {
            "image/png": "[encoded data removed]",
            "text/plain": [
              "<Figure size 432x288 with 1 Axes>"
            ]
          },
          "metadata": {
            "needs_background": "light"
          }
        }
      ]
    },
    {
      "cell_type": "code",
      "metadata": {
        "colab": {
          "base_uri": "https://localhost:8080/",
          "height": 282
        },
        "id": "U5woo0mtzVQ-",
        "outputId": "dbbbcb2c-fadd-4b72-f673-98522c69de98"
      },
      "source": [
        "x = [0, 4, 8, 12, 16, 20]\n",
        "y = [67.38, 74.67, 82.74, 91.69, 101.60, 112.58]\n",
        "\n",
        "a0, a1 = mmq_exp(x, y)\n",
        "print(f'f(x) = ({a0}) * e^(({a1})*x)')\n",
        "k = 0\n",
        "dif = 0\n",
        "for i in t:\n",
        " ps = bexp(i, a0, a1)\n",
        " dif += abs(y[k] - ps)\n",
        " k += 1\n",
        "diferencas.append(dif)\n",
        "plt.plot(t, [bexp(i, a0, a1) for i in t])\n",
        "plt.scatter(x, y)\n",
        "plt.show()"
      ],
      "execution_count": null,
      "outputs": [
        {
          "output_type": "stream",
          "name": "stdout",
          "text": [
            "f(x) = (67.38252665169887) * e^((0.025665605440044488)*x)\n"
          ]
        },
        {
          "output_type": "display_data",
          "data": {
            "image/png": "[encoded data removed]",
            "text/plain": [
              "<Figure size 432x288 with 1 Axes>"
            ]
          },
          "metadata": {
            "needs_background": "light"
          }
        }
      ]
    },
    {
      "cell_type": "code",
      "metadata": {
        "colab": {
          "base_uri": "https://localhost:8080/"
        },
        "id": "K41XBUTlvnVr",
        "outputId": "2427b710-c14b-4f40-ccf6-1155ad7a430a"
      },
      "source": [
        "print(f'Vetor das diferenças gerado: {diferencas}')"
      ],
      "execution_count": null,
      "outputs": [
        {
          "output_type": "stream",
          "name": "stdout",
          "text": [
            "Vetor das diferenças gerado: [6.146666666666675, 0.29885714285718734, 0.013721429436117205]\n"
          ]
        }
      ]
    },
    {
      "cell_type": "markdown",
      "metadata": {
        "id": "F5GJZFeJLyeS"
      },
      "source": [
        "Por meio dos gráficos podemos perceber que tanto a regressão quadrática quanto a exponencial tiveram bons resultados quanto a aproximação, porém ao olhar o vetor das diferenças que foi gerado podemos ver que a equação que melhor se ajusta aos dados é a última, visto que possui a menor das diferenças, então usarei ela para prever a quantidade de bactérias após 30 dias.\n",
        "\n"
      ]
    },
    {
      "cell_type": "code",
      "metadata": {
        "colab": {
          "base_uri": "https://localhost:8080/"
        },
        "id": "KX7uMhx7Lw4M",
        "outputId": "c6262e96-9f8f-455c-f0e7-5de82f280335"
      },
      "source": [
        "result = round(a0 * math.exp(a1 * 30), 2)\n",
        "print(f'A quantidade de bactérias estimada após 30 dias foi de: {result}')"
      ],
      "execution_count": null,
      "outputs": [
        {
          "output_type": "stream",
          "name": "stdout",
          "text": [
            "A quantidade de bactérias estimada após 30 dias foi de: 145.53\n"
          ]
        }
      ]
    }
  ]
}