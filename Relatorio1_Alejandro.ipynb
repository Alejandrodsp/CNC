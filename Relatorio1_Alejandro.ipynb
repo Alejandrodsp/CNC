{
  "nbformat": 4,
  "nbformat_minor": 0,
  "metadata": {
    "colab": {
      "name": "Relatorio1_Alejandro.ipynb",
      "provenance": [],
      "collapsed_sections": []
    },
    "kernelspec": {
      "name": "python3",
      "display_name": "Python 3"
    }
  },
  "cells": [
    {
      "cell_type": "markdown",
      "metadata": {
        "id": "9UrXwMDAeDNG"
      },
      "source": [
        "#Bibliotecas\n"
      ]
    },
    {
      "cell_type": "code",
      "metadata": {
        "id": "fi0lgc97d_eS"
      },
      "source": [
        "import matplotlib.pyplot as plt\n",
        "import numpy as np\n",
        "import math\n",
        "import sympy as sym\n",
        "import pandas as pd\n",
        "from random import uniform"
      ],
      "execution_count": null,
      "outputs": []
    },
    {
      "cell_type": "markdown",
      "metadata": {
        "id": "Y9rV5pFKeYFc"
      },
      "source": [
        "# Métodos"
      ]
    },
    {
      "cell_type": "markdown",
      "metadata": {
        "id": "1LjZ4po5buLc"
      },
      "source": [
        "##Método da Bissecção"
      ]
    },
    {
      "cell_type": "code",
      "metadata": {
        "id": "Zw2GloPAeVe5"
      },
      "source": [
        "def bisseccao(f_x, a, b,precisao=0.0000001, n=10000):\n",
        "  df = pd.DataFrame(columns=['a(n)', 'b(n)', 'x(n)', 'f(x(n))', 'f(a(n))', 'f(a(n)) * f(x(n))'])\n",
        "  x = (a + b) / 2 \n",
        "\n",
        "  if (f_x(a) * f_x(b) < 0):\n",
        "    if (b - a) < precisao:\n",
        "      rnd_pos = uniform(a, b)\n",
        "      df.loc[0] = [a, b, rnd_pos, f_x(rnd_pos), f_x(a), f_x(a)*f_x(x)]\n",
        "      return df.round(4)\n",
        "\n",
        "    for k in range(n):\n",
        "      x = (a + b) / 2 \n",
        "      df.loc[k] = [a, b, x, f_x(x), f_x(a), f_x(a)*f_x(x)]\n",
        "      if (f_x(a) * f_x(x)) > 0: a = x\n",
        "      else: b = x\n",
        "      if (b - a) < precisao: break\n",
        "  else: return 'Não há raízes no intervalo dado.'\n",
        "  return df.round(4)"
      ],
      "execution_count": null,
      "outputs": []
    },
    {
      "cell_type": "markdown",
      "metadata": {
        "id": "aZj4_UgQb3b1"
      },
      "source": [
        "##Método da Falsa Posição"
      ]
    },
    {
      "cell_type": "code",
      "metadata": {
        "id": "p3I6tH0AX-29"
      },
      "source": [
        "def falsaposicao(f, a, b, precisao=0.0000001, n=10000):\n",
        "  df = pd.DataFrame(columns=['a(n)', 'b(n)', 'x(n)', 'f(x(n))'])\n",
        "  x = a - (b - a) * f_x(a) / (f_x(b) - f_x(a))\n",
        "\n",
        "  if (f_x(a) * f_x(b)) < 0:\n",
        "    if (b - a) < precisao:\n",
        "      rnd_pos = uniform(a, b)\n",
        "      df.loc[0] = [a, b, rnd_pos, f_x(rnd_pos)]\n",
        "      return df.round(4)\n",
        "\n",
        "    for k in range(n):\n",
        "      x = a - (b - a) * f_x(a) / (f_x(b) - f_x(a))\n",
        "      df.loc[k] = [a, b, x, f_x(x)]\n",
        "      if abs(f_x(x)) < precisao: break\n",
        "      if (f_x(a) * f_x(x)) > 0: a = x\n",
        "      else: b = x\n",
        "      if (b - a) < precisao: break\n",
        "  else:\n",
        "    return 'Não há raízes no intervalo dado.'\n",
        "  return df.round(4)  "
      ],
      "execution_count": null,
      "outputs": []
    },
    {
      "cell_type": "markdown",
      "metadata": {
        "id": "O6WFuSSYb_2V"
      },
      "source": [
        "##Método da tangente"
      ]
    },
    {
      "cell_type": "code",
      "metadata": {
        "id": "xHWcdgE4Zyx9"
      },
      "source": [
        "def tangente(f_x, derivada, x0, precisao=0.0000001, n=10000):\n",
        "  df = pd.DataFrame(columns=['x(n)', 'f(x(n))']) \n",
        "  df.loc[0] = [x0, f_x(x0)]\n",
        "  if abs(f_x(x0)) < precisao: return df.round(4)\n",
        "\n",
        "  for k in range(1, n):\n",
        "    x1 = x0 - (f_x(x0) / derivada(x0))\n",
        "    df.loc[k] = [x1, f_x(x1)]\n",
        "    if abs(f_x(x1)) < precisao: break\n",
        "    x0 = x1\n",
        "  return df.round(4)\n"
      ],
      "execution_count": null,
      "outputs": []
    },
    {
      "cell_type": "markdown",
      "metadata": {
        "id": "qGCiGAJ_jlZW"
      },
      "source": [
        "##Método da Secante"
      ]
    },
    {
      "cell_type": "code",
      "metadata": {
        "id": "yT8_LcEgjqAe"
      },
      "source": [
        "def secante(f_x, x0, x1, precisao=0.0000001, n=10000):\n",
        "  df = pd.DataFrame(columns=['x(n)', 'f(x(n))'])\n",
        "  x_eq = lambda a,b: b - (b - a)/(f_x(b) - f_x(a)) * f_x(b)\n",
        "  df.loc[0] = [x0, f_x(x0)]\n",
        "  if abs(f_x(x0)) < precisao: return df.round(4)\n",
        "\n",
        "  df.loc[1] = [x1, f_x(x1)]\n",
        "  if abs(f_x(x1)) < precisao: return df.round(4)\n",
        "\n",
        "  for k in range(2, n):\n",
        "    x = x_eq(x0, x1)\n",
        "    df.loc[k] = [(x), f_x(x)]\n",
        "    if abs(f_x(x)) < precisao: break\n",
        "    else: \n",
        "      x0 = x1\n",
        "      x1 = x\n",
        "  return df.round(4)"
      ],
      "execution_count": null,
      "outputs": []
    },
    {
      "cell_type": "markdown",
      "metadata": {
        "id": "1wje0dmreLpQ"
      },
      "source": [
        "# Relatório 1\n"
      ]
    },
    {
      "cell_type": "markdown",
      "metadata": {
        "id": "ySK8ByuPeLAD"
      },
      "source": [
        "##Questão 1 – Determine por meio do método da bissecção, corretamente, até a quarta casa decimal, a menor raiz positiva, da equação f(x) = 2^x - 2x^2 + 1"
      ]
    },
    {
      "cell_type": "code",
      "metadata": {
        "id": "PnVmpjipefiX",
        "colab": {
          "base_uri": "https://localhost:8080/",
          "height": 266
        },
        "outputId": "7fce0254-03f6-46b0-bfe4-f7718de40041"
      },
      "source": [
        "f_x = lambda x: 2**x - 2*x**2 + 1\n",
        "bisseccao(f_x, 1, 2, 0.01)"
      ],
      "execution_count": null,
      "outputs": [
        {
          "output_type": "execute_result",
          "data": {
            "text/html": [
              "<div>\n",
              "<style scoped>\n",
              "    .dataframe tbody tr th:only-of-type {\n",
              "        vertical-align: middle;\n",
              "    }\n",
              "\n",
              "    .dataframe tbody tr th {\n",
              "        vertical-align: top;\n",
              "    }\n",
              "\n",
              "    .dataframe thead th {\n",
              "        text-align: right;\n",
              "    }\n",
              "</style>\n",
              "<table border=\"1\" class=\"dataframe\">\n",
              "  <thead>\n",
              "    <tr style=\"text-align: right;\">\n",
              "      <th></th>\n",
              "      <th>a(n)</th>\n",
              "      <th>b(n)</th>\n",
              "      <th>x(n)</th>\n",
              "      <th>f(x(n))</th>\n",
              "      <th>f(a(n))</th>\n",
              "      <th>f(a(n)) * f(x(n))</th>\n",
              "    </tr>\n",
              "  </thead>\n",
              "  <tbody>\n",
              "    <tr>\n",
              "      <th>0</th>\n",
              "      <td>1.0000</td>\n",
              "      <td>2.0000</td>\n",
              "      <td>1.5000</td>\n",
              "      <td>-0.6716</td>\n",
              "      <td>1.0000</td>\n",
              "      <td>-0.6716</td>\n",
              "    </tr>\n",
              "    <tr>\n",
              "      <th>1</th>\n",
              "      <td>1.0000</td>\n",
              "      <td>1.5000</td>\n",
              "      <td>1.2500</td>\n",
              "      <td>0.2534</td>\n",
              "      <td>1.0000</td>\n",
              "      <td>0.2534</td>\n",
              "    </tr>\n",
              "    <tr>\n",
              "      <th>2</th>\n",
              "      <td>1.2500</td>\n",
              "      <td>1.5000</td>\n",
              "      <td>1.3750</td>\n",
              "      <td>-0.1876</td>\n",
              "      <td>0.2534</td>\n",
              "      <td>-0.0475</td>\n",
              "    </tr>\n",
              "    <tr>\n",
              "      <th>3</th>\n",
              "      <td>1.2500</td>\n",
              "      <td>1.3750</td>\n",
              "      <td>1.3125</td>\n",
              "      <td>0.0384</td>\n",
              "      <td>0.2534</td>\n",
              "      <td>0.0097</td>\n",
              "    </tr>\n",
              "    <tr>\n",
              "      <th>4</th>\n",
              "      <td>1.3125</td>\n",
              "      <td>1.3750</td>\n",
              "      <td>1.3438</td>\n",
              "      <td>-0.0732</td>\n",
              "      <td>0.0384</td>\n",
              "      <td>-0.0028</td>\n",
              "    </tr>\n",
              "    <tr>\n",
              "      <th>5</th>\n",
              "      <td>1.3125</td>\n",
              "      <td>1.3438</td>\n",
              "      <td>1.3281</td>\n",
              "      <td>-0.0171</td>\n",
              "      <td>0.0384</td>\n",
              "      <td>-0.0007</td>\n",
              "    </tr>\n",
              "    <tr>\n",
              "      <th>6</th>\n",
              "      <td>1.3125</td>\n",
              "      <td>1.3281</td>\n",
              "      <td>1.3203</td>\n",
              "      <td>0.0108</td>\n",
              "      <td>0.0384</td>\n",
              "      <td>0.0004</td>\n",
              "    </tr>\n",
              "  </tbody>\n",
              "</table>\n",
              "</div>"
            ],
            "text/plain": [
              "     a(n)    b(n)    x(n)  f(x(n))  f(a(n))  f(a(n)) * f(x(n))\n",
              "0  1.0000  2.0000  1.5000  -0.6716   1.0000            -0.6716\n",
              "1  1.0000  1.5000  1.2500   0.2534   1.0000             0.2534\n",
              "2  1.2500  1.5000  1.3750  -0.1876   0.2534            -0.0475\n",
              "3  1.2500  1.3750  1.3125   0.0384   0.2534             0.0097\n",
              "4  1.3125  1.3750  1.3438  -0.0732   0.0384            -0.0028\n",
              "5  1.3125  1.3438  1.3281  -0.0171   0.0384            -0.0007\n",
              "6  1.3125  1.3281  1.3203   0.0108   0.0384             0.0004"
            ]
          },
          "metadata": {},
          "execution_count": 130
        }
      ]
    },
    {
      "cell_type": "markdown",
      "metadata": {
        "id": "LFCZrxsk4lOM"
      },
      "source": [
        "##Questão 2 – Determine por meio do método da falsa posição, corretamente, até a quarta casa decimal, a menor raiz positiva, da equação f(x) = x^2 - cos(x)"
      ]
    },
    {
      "cell_type": "code",
      "metadata": {
        "id": "NsEQcZT-4uxp",
        "colab": {
          "base_uri": "https://localhost:8080/",
          "height": 173
        },
        "outputId": "1065d927-8c7d-4290-a693-86cadae20609"
      },
      "source": [
        "f_x = lambda x: x**2 - math.cos(x)\n",
        "falsaposicao(f_x, 0.5, 1, 0.0001)"
      ],
      "execution_count": null,
      "outputs": [
        {
          "output_type": "execute_result",
          "data": {
            "text/html": [
              "<div>\n",
              "<style scoped>\n",
              "    .dataframe tbody tr th:only-of-type {\n",
              "        vertical-align: middle;\n",
              "    }\n",
              "\n",
              "    .dataframe tbody tr th {\n",
              "        vertical-align: top;\n",
              "    }\n",
              "\n",
              "    .dataframe thead th {\n",
              "        text-align: right;\n",
              "    }\n",
              "</style>\n",
              "<table border=\"1\" class=\"dataframe\">\n",
              "  <thead>\n",
              "    <tr style=\"text-align: right;\">\n",
              "      <th></th>\n",
              "      <th>a(n)</th>\n",
              "      <th>b(n)</th>\n",
              "      <th>x(n)</th>\n",
              "      <th>f(x(n))</th>\n",
              "    </tr>\n",
              "  </thead>\n",
              "  <tbody>\n",
              "    <tr>\n",
              "      <th>0</th>\n",
              "      <td>0.5000</td>\n",
              "      <td>1.0</td>\n",
              "      <td>0.7886</td>\n",
              "      <td>-0.0829</td>\n",
              "    </tr>\n",
              "    <tr>\n",
              "      <th>1</th>\n",
              "      <td>0.7886</td>\n",
              "      <td>1.0</td>\n",
              "      <td>0.8209</td>\n",
              "      <td>-0.0077</td>\n",
              "    </tr>\n",
              "    <tr>\n",
              "      <th>2</th>\n",
              "      <td>0.8209</td>\n",
              "      <td>1.0</td>\n",
              "      <td>0.8238</td>\n",
              "      <td>-0.0007</td>\n",
              "    </tr>\n",
              "    <tr>\n",
              "      <th>3</th>\n",
              "      <td>0.8238</td>\n",
              "      <td>1.0</td>\n",
              "      <td>0.8241</td>\n",
              "      <td>-0.0001</td>\n",
              "    </tr>\n",
              "  </tbody>\n",
              "</table>\n",
              "</div>"
            ],
            "text/plain": [
              "     a(n)  b(n)    x(n)  f(x(n))\n",
              "0  0.5000   1.0  0.7886  -0.0829\n",
              "1  0.7886   1.0  0.8209  -0.0077\n",
              "2  0.8209   1.0  0.8238  -0.0007\n",
              "3  0.8238   1.0  0.8241  -0.0001"
            ]
          },
          "metadata": {},
          "execution_count": 72
        }
      ]
    },
    {
      "cell_type": "markdown",
      "metadata": {
        "id": "oz27YBGa40x7"
      },
      "source": [
        "##Questão 3 – Determine por meio do método da tangente, corretamente, até a quarta casa decimal, a menor raiz positiva, da equação f(x) = x^5 - x -1"
      ]
    },
    {
      "cell_type": "code",
      "metadata": {
        "id": "YTxoIvXk41RW",
        "colab": {
          "base_uri": "https://localhost:8080/",
          "height": 390
        },
        "outputId": "98102593-7b07-44bf-a97b-e2b1d9f7f250"
      },
      "source": [
        "var = sym.Symbol('x')\n",
        "f_x = lambda x: x**5 - x -1\n",
        "derivada = lambda x: 5*x**4 - 1\n",
        "tangente(f_x, derivada, 0.75, precisao=0.01)"
      ],
      "execution_count": null,
      "outputs": [
        {
          "output_type": "execute_result",
          "data": {
            "text/html": [
              "<div>\n",
              "<style scoped>\n",
              "    .dataframe tbody tr th:only-of-type {\n",
              "        vertical-align: middle;\n",
              "    }\n",
              "\n",
              "    .dataframe tbody tr th {\n",
              "        vertical-align: top;\n",
              "    }\n",
              "\n",
              "    .dataframe thead th {\n",
              "        text-align: right;\n",
              "    }\n",
              "</style>\n",
              "<table border=\"1\" class=\"dataframe\">\n",
              "  <thead>\n",
              "    <tr style=\"text-align: right;\">\n",
              "      <th></th>\n",
              "      <th>x(n)</th>\n",
              "      <th>f(x(n))</th>\n",
              "    </tr>\n",
              "  </thead>\n",
              "  <tbody>\n",
              "    <tr>\n",
              "      <th>0</th>\n",
              "      <td>0.7500</td>\n",
              "      <td>-1.5127</td>\n",
              "    </tr>\n",
              "    <tr>\n",
              "      <th>1</th>\n",
              "      <td>3.3490</td>\n",
              "      <td>416.9315</td>\n",
              "    </tr>\n",
              "    <tr>\n",
              "      <th>2</th>\n",
              "      <td>2.6851</td>\n",
              "      <td>135.8762</td>\n",
              "    </tr>\n",
              "    <tr>\n",
              "      <th>3</th>\n",
              "      <td>2.1602</td>\n",
              "      <td>43.8804</td>\n",
              "    </tr>\n",
              "    <tr>\n",
              "      <th>4</th>\n",
              "      <td>1.7535</td>\n",
              "      <td>13.8221</td>\n",
              "    </tr>\n",
              "    <tr>\n",
              "      <th>5</th>\n",
              "      <td>1.4547</td>\n",
              "      <td>4.0595</td>\n",
              "    </tr>\n",
              "    <tr>\n",
              "      <th>6</th>\n",
              "      <td>1.2649</td>\n",
              "      <td>0.9733</td>\n",
              "    </tr>\n",
              "    <tr>\n",
              "      <th>7</th>\n",
              "      <td>1.1824</td>\n",
              "      <td>0.1290</td>\n",
              "    </tr>\n",
              "    <tr>\n",
              "      <th>8</th>\n",
              "      <td>1.1677</td>\n",
              "      <td>0.0035</td>\n",
              "    </tr>\n",
              "    <tr>\n",
              "      <th>9</th>\n",
              "      <td>1.1673</td>\n",
              "      <td>0.0000</td>\n",
              "    </tr>\n",
              "    <tr>\n",
              "      <th>10</th>\n",
              "      <td>1.1673</td>\n",
              "      <td>0.0000</td>\n",
              "    </tr>\n",
              "  </tbody>\n",
              "</table>\n",
              "</div>"
            ],
            "text/plain": [
              "      x(n)   f(x(n))\n",
              "0   0.7500   -1.5127\n",
              "1   3.3490  416.9315\n",
              "2   2.6851  135.8762\n",
              "3   2.1602   43.8804\n",
              "4   1.7535   13.8221\n",
              "5   1.4547    4.0595\n",
              "6   1.2649    0.9733\n",
              "7   1.1824    0.1290\n",
              "8   1.1677    0.0035\n",
              "9   1.1673    0.0000\n",
              "10  1.1673    0.0000"
            ]
          },
          "metadata": {},
          "execution_count": 6
        }
      ]
    },
    {
      "cell_type": "markdown",
      "metadata": {
        "id": "qCoibUqY4_Wq"
      },
      "source": [
        "##Questão 4 – Determine por meio do método da secante, corretamente, até a quarta casa decimal, a menor raiz positiva, da equação f(x) = 3/(1+x^2) - 1/(2x^3)"
      ]
    },
    {
      "cell_type": "code",
      "metadata": {
        "id": "KSvKLU6c4_E1",
        "colab": {
          "base_uri": "https://localhost:8080/",
          "height": 328
        },
        "outputId": "0c46e460-b156-4247-ac7c-bff45c0a064c"
      },
      "source": [
        "f_x = lambda x:  3/(1+x**2) - 1/(2*x**3)\n",
        "secante(f_x, 1, 2, precisao=0.01)"
      ],
      "execution_count": null,
      "outputs": [
        {
          "output_type": "execute_result",
          "data": {
            "text/html": [
              "<div>\n",
              "<style scoped>\n",
              "    .dataframe tbody tr th:only-of-type {\n",
              "        vertical-align: middle;\n",
              "    }\n",
              "\n",
              "    .dataframe tbody tr th {\n",
              "        vertical-align: top;\n",
              "    }\n",
              "\n",
              "    .dataframe thead th {\n",
              "        text-align: right;\n",
              "    }\n",
              "</style>\n",
              "<table border=\"1\" class=\"dataframe\">\n",
              "  <thead>\n",
              "    <tr style=\"text-align: right;\">\n",
              "      <th></th>\n",
              "      <th>x(n)</th>\n",
              "      <th>f(x(n))</th>\n",
              "    </tr>\n",
              "  </thead>\n",
              "  <tbody>\n",
              "    <tr>\n",
              "      <th>0</th>\n",
              "      <td>1.0000</td>\n",
              "      <td>1.0000</td>\n",
              "    </tr>\n",
              "    <tr>\n",
              "      <th>1</th>\n",
              "      <td>2.0000</td>\n",
              "      <td>0.5375</td>\n",
              "    </tr>\n",
              "    <tr>\n",
              "      <th>2</th>\n",
              "      <td>3.1622</td>\n",
              "      <td>0.2569</td>\n",
              "    </tr>\n",
              "    <tr>\n",
              "      <th>3</th>\n",
              "      <td>4.2264</td>\n",
              "      <td>0.1524</td>\n",
              "    </tr>\n",
              "    <tr>\n",
              "      <th>4</th>\n",
              "      <td>5.7786</td>\n",
              "      <td>0.0846</td>\n",
              "    </tr>\n",
              "    <tr>\n",
              "      <th>5</th>\n",
              "      <td>7.7167</td>\n",
              "      <td>0.0485</td>\n",
              "    </tr>\n",
              "    <tr>\n",
              "      <th>6</th>\n",
              "      <td>10.3127</td>\n",
              "      <td>0.0275</td>\n",
              "    </tr>\n",
              "    <tr>\n",
              "      <th>7</th>\n",
              "      <td>13.7158</td>\n",
              "      <td>0.0157</td>\n",
              "    </tr>\n",
              "    <tr>\n",
              "      <th>8</th>\n",
              "      <td>18.2268</td>\n",
              "      <td>0.0089</td>\n",
              "    </tr>\n",
              "  </tbody>\n",
              "</table>\n",
              "</div>"
            ],
            "text/plain": [
              "      x(n)  f(x(n))\n",
              "0   1.0000   1.0000\n",
              "1   2.0000   0.5375\n",
              "2   3.1622   0.2569\n",
              "3   4.2264   0.1524\n",
              "4   5.7786   0.0846\n",
              "5   7.7167   0.0485\n",
              "6  10.3127   0.0275\n",
              "7  13.7158   0.0157\n",
              "8  18.2268   0.0089"
            ]
          },
          "metadata": {},
          "execution_count": 113
        }
      ]
    },
    {
      "cell_type": "markdown",
      "metadata": {
        "id": "CQ_E_Y1lesyJ"
      },
      "source": [
        "##Questão 5 – Determine a menor raiz positiva de f(x) = ln(x^2) - 0,7\n",
        "\n",
        "1. Graficamente\n",
        "2. Usando o método da bissecção (três iterações, x0=0,5 e x1=2)\n",
        "3. Usando o método da falsa posição (três iterações, x0=0,5 e x1=2)\n",
        "4. Discuta sobre os resultados obtidos"
      ]
    },
    {
      "cell_type": "markdown",
      "metadata": {
        "id": "jqeGNs3GsTq_"
      },
      "source": [
        "##1.Graficamente"
      ]
    },
    {
      "cell_type": "code",
      "metadata": {
        "colab": {
          "base_uri": "https://localhost:8080/",
          "height": 281
        },
        "id": "IjDBCedrsYNW",
        "outputId": "54b7ee72-4e3b-4966-9238-ad1046c8c4f6"
      },
      "source": [
        "f_x = lambda x: math.log(x**2) - 0.7\n",
        "curva = np.linspace(0.5, 3, 1000)\n",
        "valores = [f_x(valor) for valor in curva]\n",
        "plt.plot(curva, valores, linestyle='-', marker='o')\n",
        "plt.title('Raízes f(x)= ln(x²) - 0,7 [0,5,3]')\n",
        "\n",
        "plt.grid()\n",
        "plt.show()"
      ],
      "execution_count": null,
      "outputs": [
        {
          "output_type": "display_data",
          "data": {
            "image/png": "[encoded data removed]",
            "text/plain": [
              "<Figure size 432x288 with 1 Axes>"
            ]
          },
          "metadata": {
            "needs_background": "light"
          }
        }
      ]
    },
    {
      "cell_type": "markdown",
      "metadata": {
        "id": "um8xs6GoeX2y"
      },
      "source": [
        "##2.Usando o método da bissecção (três iterações, x0=0,5 e x1=2)"
      ]
    },
    {
      "cell_type": "code",
      "metadata": {
        "id": "bjpjR_eIew2H",
        "colab": {
          "base_uri": "https://localhost:8080/",
          "height": 142
        },
        "outputId": "1279615d-45b6-4f42-8985-9b57a833dcfb"
      },
      "source": [
        "f_x = lambda x: math.log(x**2) - 0.7\n",
        "bisseccao(f_x, 0.5,2,n=3)"
      ],
      "execution_count": null,
      "outputs": [
        {
          "output_type": "execute_result",
          "data": {
            "text/html": [
              "<div>\n",
              "<style scoped>\n",
              "    .dataframe tbody tr th:only-of-type {\n",
              "        vertical-align: middle;\n",
              "    }\n",
              "\n",
              "    .dataframe tbody tr th {\n",
              "        vertical-align: top;\n",
              "    }\n",
              "\n",
              "    .dataframe thead th {\n",
              "        text-align: right;\n",
              "    }\n",
              "</style>\n",
              "<table border=\"1\" class=\"dataframe\">\n",
              "  <thead>\n",
              "    <tr style=\"text-align: right;\">\n",
              "      <th></th>\n",
              "      <th>a(n)</th>\n",
              "      <th>b(n)</th>\n",
              "      <th>x(n)</th>\n",
              "      <th>f(x(n))</th>\n",
              "      <th>f(a(n))</th>\n",
              "      <th>f(a(n)) * f(x(n))</th>\n",
              "    </tr>\n",
              "  </thead>\n",
              "  <tbody>\n",
              "    <tr>\n",
              "      <th>0</th>\n",
              "      <td>0.50</td>\n",
              "      <td>2.000</td>\n",
              "      <td>1.2500</td>\n",
              "      <td>-0.2537</td>\n",
              "      <td>-2.0863</td>\n",
              "      <td>0.5293</td>\n",
              "    </tr>\n",
              "    <tr>\n",
              "      <th>1</th>\n",
              "      <td>1.25</td>\n",
              "      <td>2.000</td>\n",
              "      <td>1.6250</td>\n",
              "      <td>0.2710</td>\n",
              "      <td>-0.2537</td>\n",
              "      <td>-0.0688</td>\n",
              "    </tr>\n",
              "    <tr>\n",
              "      <th>2</th>\n",
              "      <td>1.25</td>\n",
              "      <td>1.625</td>\n",
              "      <td>1.4375</td>\n",
              "      <td>0.0258</td>\n",
              "      <td>-0.2537</td>\n",
              "      <td>-0.0065</td>\n",
              "    </tr>\n",
              "  </tbody>\n",
              "</table>\n",
              "</div>"
            ],
            "text/plain": [
              "   a(n)   b(n)    x(n)  f(x(n))  f(a(n))  f(a(n)) * f(x(n))\n",
              "0  0.50  2.000  1.2500  -0.2537  -2.0863             0.5293\n",
              "1  1.25  2.000  1.6250   0.2710  -0.2537            -0.0688\n",
              "2  1.25  1.625  1.4375   0.0258  -0.2537            -0.0065"
            ]
          },
          "metadata": {},
          "execution_count": 167
        }
      ]
    },
    {
      "cell_type": "markdown",
      "metadata": {
        "id": "_B_HUaKXfC55"
      },
      "source": [
        "##3.Usando o método da falsa posição (três iterações, x0=0,5 e x1=2)"
      ]
    },
    {
      "cell_type": "code",
      "metadata": {
        "colab": {
          "base_uri": "https://localhost:8080/",
          "height": 142
        },
        "id": "RgdW8tW9fHnS",
        "outputId": "65b44bb1-2dbf-4f02-f8fb-23aa49622bde"
      },
      "source": [
        "f_x = lambda x: math.log(x**2) - 0.7\n",
        "falsaposicao(f_x, 0.5,2,n=3)"
      ],
      "execution_count": null,
      "outputs": [
        {
          "output_type": "execute_result",
          "data": {
            "text/html": [
              "<div>\n",
              "<style scoped>\n",
              "    .dataframe tbody tr th:only-of-type {\n",
              "        vertical-align: middle;\n",
              "    }\n",
              "\n",
              "    .dataframe tbody tr th {\n",
              "        vertical-align: top;\n",
              "    }\n",
              "\n",
              "    .dataframe thead th {\n",
              "        text-align: right;\n",
              "    }\n",
              "</style>\n",
              "<table border=\"1\" class=\"dataframe\">\n",
              "  <thead>\n",
              "    <tr style=\"text-align: right;\">\n",
              "      <th></th>\n",
              "      <th>a(n)</th>\n",
              "      <th>b(n)</th>\n",
              "      <th>x(n)</th>\n",
              "      <th>f(x(n))</th>\n",
              "    </tr>\n",
              "  </thead>\n",
              "  <tbody>\n",
              "    <tr>\n",
              "      <th>0</th>\n",
              "      <td>0.5</td>\n",
              "      <td>2.0000</td>\n",
              "      <td>1.6287</td>\n",
              "      <td>0.2756</td>\n",
              "    </tr>\n",
              "    <tr>\n",
              "      <th>1</th>\n",
              "      <td>0.5</td>\n",
              "      <td>1.6287</td>\n",
              "      <td>1.4970</td>\n",
              "      <td>0.1069</td>\n",
              "    </tr>\n",
              "    <tr>\n",
              "      <th>2</th>\n",
              "      <td>0.5</td>\n",
              "      <td>1.4970</td>\n",
              "      <td>1.4484</td>\n",
              "      <td>0.0409</td>\n",
              "    </tr>\n",
              "  </tbody>\n",
              "</table>\n",
              "</div>"
            ],
            "text/plain": [
              "   a(n)    b(n)    x(n)  f(x(n))\n",
              "0   0.5  2.0000  1.6287   0.2756\n",
              "1   0.5  1.6287  1.4970   0.1069\n",
              "2   0.5  1.4970  1.4484   0.0409"
            ]
          },
          "metadata": {},
          "execution_count": 168
        }
      ]
    },
    {
      "cell_type": "markdown",
      "metadata": {
        "id": "a1R-WQ-uhMVz"
      },
      "source": [
        "##4. Discuta os resultados obtidos\n",
        "Foi possível observar que com o mesmo número de iterações e mesmos pontos x0 e x1, ao usar o método da bisseção tivemos uma melhor aproximação para a raiz do que ao usar o método da falsa posição, acredito que esse resultado se deu pois a quebra do intervalo pelo método da bissecção que usa a média simples foi mais eficiente com poucas iterações do que a do método da falsa posição que utiliza a média ponderada."
      ]
    },
    {
      "cell_type": "markdown",
      "metadata": {
        "id": "N7FFTWPD5lqK"
      },
      "source": [
        "##Questão 6 – Determine a menor raiz positiva de f(x) = 7sen(x)e^-1 - 1\n",
        "\n",
        "1. Graficamente\n",
        "2. Usando o método da tangente (três iterações, x0=0,3)\n",
        "3. Usando o método da secante (três iterações, x0=0,5 e x1=0,4)\n",
        "4. Discuta sobre os resultados obtidos"
      ]
    },
    {
      "cell_type": "markdown",
      "metadata": {
        "id": "5V16uHN4kAyj"
      },
      "source": [
        "##1.Graficamente"
      ]
    },
    {
      "cell_type": "code",
      "metadata": {
        "id": "RfrAPgKr50X_",
        "colab": {
          "base_uri": "https://localhost:8080/",
          "height": 281
        },
        "outputId": "aede751d-fdff-4eff-c791-abea5b6497f0"
      },
      "source": [
        "f_x = lambda x: 7 * math.sin(x) * math.exp(-1) - 1\n",
        "curva = np.linspace(-5, 5, 1000)\n",
        "valores = [f_x(valor) for valor in curva]\n",
        "plt.plot(curva, valores, linestyle='-', marker='o')\n",
        "plt.title('Raízes f(x)=7sen(x)e^-1 - 1 [-5,5]')\n",
        "\n",
        "plt.grid()\n",
        "plt.show()"
      ],
      "execution_count": null,
      "outputs": [
        {
          "output_type": "display_data",
          "data": {
            "image/png": "[encoded data removed]",
            "text/plain": [
              "<Figure size 432x288 with 1 Axes>"
            ]
          },
          "metadata": {
            "needs_background": "light"
          }
        }
      ]
    },
    {
      "cell_type": "markdown",
      "metadata": {
        "id": "_mqMQNcVlIMz"
      },
      "source": [
        "##2.Usando o método da tangente (três iterações, x0=0,3)"
      ]
    },
    {
      "cell_type": "code",
      "metadata": {
        "colab": {
          "base_uri": "https://localhost:8080/",
          "height": 142
        },
        "id": "YuKAgKpclMYj",
        "outputId": "25aea3fe-52c0-40d0-830c-d8ad209b7e71"
      },
      "source": [
        "var = sym.Symbol('x')\n",
        "f_x = lambda x: 7 * math.sin(x) * math.exp(-1) - 1\n",
        "derivada = lambda x: (7/math.exp(1))*math.cos(x)\n",
        "tangente(f_x, derivada, 0.3, n=3)"
      ],
      "execution_count": null,
      "outputs": [
        {
          "output_type": "execute_result",
          "data": {
            "text/html": [
              "<div>\n",
              "<style scoped>\n",
              "    .dataframe tbody tr th:only-of-type {\n",
              "        vertical-align: middle;\n",
              "    }\n",
              "\n",
              "    .dataframe tbody tr th {\n",
              "        vertical-align: top;\n",
              "    }\n",
              "\n",
              "    .dataframe thead th {\n",
              "        text-align: right;\n",
              "    }\n",
              "</style>\n",
              "<table border=\"1\" class=\"dataframe\">\n",
              "  <thead>\n",
              "    <tr style=\"text-align: right;\">\n",
              "      <th></th>\n",
              "      <th>x(n)</th>\n",
              "      <th>f(x(n))</th>\n",
              "    </tr>\n",
              "  </thead>\n",
              "  <tbody>\n",
              "    <tr>\n",
              "      <th>0</th>\n",
              "      <td>0.3000</td>\n",
              "      <td>-0.239</td>\n",
              "    </tr>\n",
              "    <tr>\n",
              "      <th>1</th>\n",
              "      <td>0.3971</td>\n",
              "      <td>-0.004</td>\n",
              "    </tr>\n",
              "    <tr>\n",
              "      <th>2</th>\n",
              "      <td>0.3988</td>\n",
              "      <td>-0.000</td>\n",
              "    </tr>\n",
              "  </tbody>\n",
              "</table>\n",
              "</div>"
            ],
            "text/plain": [
              "     x(n)  f(x(n))\n",
              "0  0.3000   -0.239\n",
              "1  0.3971   -0.004\n",
              "2  0.3988   -0.000"
            ]
          },
          "metadata": {},
          "execution_count": 187
        }
      ]
    },
    {
      "cell_type": "markdown",
      "metadata": {
        "id": "q4M20g4XoU5i"
      },
      "source": [
        "##3.Usando o método da secante (três iterações, x0=0,5 e x1=0,4)"
      ]
    },
    {
      "cell_type": "code",
      "metadata": {
        "colab": {
          "base_uri": "https://localhost:8080/",
          "height": 142
        },
        "id": "KQ3uISybobP6",
        "outputId": "e85c11cf-69da-4957-9326-92365ae7d187"
      },
      "source": [
        "f_x = lambda x: 7 * math.sin(x) * math.exp(-1) - 1\n",
        "secante(f_x,0.5,0.4,n=3)"
      ],
      "execution_count": null,
      "outputs": [
        {
          "output_type": "execute_result",
          "data": {
            "text/html": [
              "<div>\n",
              "<style scoped>\n",
              "    .dataframe tbody tr th:only-of-type {\n",
              "        vertical-align: middle;\n",
              "    }\n",
              "\n",
              "    .dataframe tbody tr th {\n",
              "        vertical-align: top;\n",
              "    }\n",
              "\n",
              "    .dataframe thead th {\n",
              "        text-align: right;\n",
              "    }\n",
              "</style>\n",
              "<table border=\"1\" class=\"dataframe\">\n",
              "  <thead>\n",
              "    <tr style=\"text-align: right;\">\n",
              "      <th></th>\n",
              "      <th>x(n)</th>\n",
              "      <th>f(x(n))</th>\n",
              "    </tr>\n",
              "  </thead>\n",
              "  <tbody>\n",
              "    <tr>\n",
              "      <th>0</th>\n",
              "      <td>0.5000</td>\n",
              "      <td>0.2346</td>\n",
              "    </tr>\n",
              "    <tr>\n",
              "      <th>1</th>\n",
              "      <td>0.4000</td>\n",
              "      <td>0.0028</td>\n",
              "    </tr>\n",
              "    <tr>\n",
              "      <th>2</th>\n",
              "      <td>0.3988</td>\n",
              "      <td>-0.0001</td>\n",
              "    </tr>\n",
              "  </tbody>\n",
              "</table>\n",
              "</div>"
            ],
            "text/plain": [
              "     x(n)  f(x(n))\n",
              "0  0.5000   0.2346\n",
              "1  0.4000   0.0028\n",
              "2  0.3988  -0.0001"
            ]
          },
          "metadata": {},
          "execution_count": 190
        }
      ]
    },
    {
      "cell_type": "markdown",
      "metadata": {
        "id": "6e3QJU9eozr6"
      },
      "source": [
        "##4.Discuta os resultados obtidos\n",
        "Foi possível observar que ambos métodos tiveram um ótimo desempenho mesmo com poucas iterações, apesar disso, o método da tangente apresentou ainda uma melhor aproximação da raiz em comparação com o método da secante, acredito que um dos motivos para a rápida convergencia do método da tangente foi a proximidade do ponto inicial x0 da raiz, por outro lado acredito que o bom desempenho do método da secante em poucas iterações se deu pela pequena amplitude do intervalo que foi solicitado."
      ]
    }
  ]
}