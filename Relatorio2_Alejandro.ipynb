{
  "nbformat": 4,
  "nbformat_minor": 0,
  "metadata": {
    "colab": {
      "name": "Relatorio2_Alejandro.ipynb",
      "provenance": [],
      "collapsed_sections": [
        "Y9rV5pFKeYFc",
        "xr20vyy-eVoZ",
        "hxQSQ7ZWe8xf",
        "nsLHTpsTfDTX"
      ]
    },
    "kernelspec": {
      "name": "python3",
      "display_name": "Python 3"
    }
  },
  "cells": [
    {
      "cell_type": "markdown",
      "metadata": {
        "id": "9UrXwMDAeDNG"
      },
      "source": [
        "#Bibliotecas\n"
      ]
    },
    {
      "cell_type": "code",
      "metadata": {
        "id": "fi0lgc97d_eS",
        "colab": {
          "base_uri": "https://localhost:8080/",
          "height": 35
        },
        "outputId": "47768cbf-f043-4d0a-f778-14c1e9aeba19"
      },
      "source": [
        "import numpy as np\n",
        "import matplotlib.pyplot as plt\n",
        "import math\n",
        "import sympy as sym\n",
        "%precision 4\n",
        "u'%.4f'"
      ],
      "execution_count": null,
      "outputs": [
        {
          "output_type": "execute_result",
          "data": {
            "application/vnd.google.colaboratory.intrinsic+json": {
              "type": "string"
            },
            "text/plain": [
              "'%.4f'"
            ]
          },
          "metadata": {},
          "execution_count": 2
        }
      ]
    },
    {
      "cell_type": "markdown",
      "metadata": {
        "id": "Y9rV5pFKeYFc"
      },
      "source": [
        "# Métodos"
      ]
    },
    {
      "cell_type": "markdown",
      "metadata": {
        "id": "xr20vyy-eVoZ"
      },
      "source": [
        "##Eliminação de gauss (sem pivotamento parcial)"
      ]
    },
    {
      "cell_type": "code",
      "metadata": {
        "id": "Zw2GloPAeVe5"
      },
      "source": [
        "def gauss(A, b):\n",
        "    U = np.append(A, b, axis=1)  \n",
        "    n = U.shape[0]\n",
        "\n",
        "    for i in range(n):\n",
        "        for j in range(i + 1, n):\n",
        "            f = U[j,i] / U[i,i]\n",
        "\n",
        "            for k in range(n + 1):\n",
        "                U[j,k] -= U[i,k] * f\n",
        "\n",
        "    for i in range(n - 1, -1, -1):\n",
        "        for j in range(i - 1, -1, -1):\n",
        "            f = U[j,i] / U[i,i]\n",
        "\n",
        "            for k in range(n + 1):\n",
        "                U[j,k] -= U[i,k] * f\n",
        "\n",
        "    for i in range(n):\n",
        "        U[i,n] /= U[i,i]\n",
        "        U[i,i] /= U[i,i]\n",
        "\n",
        "    return U[:,n:n+1]"
      ],
      "execution_count": null,
      "outputs": []
    },
    {
      "cell_type": "markdown",
      "metadata": {
        "id": "MXM5d4o4egV4"
      },
      "source": [
        "##Fatoração LU"
      ]
    },
    {
      "cell_type": "code",
      "metadata": {
        "id": "TwpBsDVSeqCI"
      },
      "source": [
        "def solve(L, U, B, r):\n",
        "   size = len(B)\n",
        "   y = [0 for _ in range(size)]\n",
        "   x = [0 for _ in range(size)]\n",
        "   for _i in range(size):\n",
        "      y[_i] = B[_i]\n",
        "      temp_sum = sum(L[_i][_k] * y[_k] for _k in range(_i))\n",
        "      y[_i] -= temp_sum\n",
        "   # print(y)\n",
        "   for _i in range(size-1, -1, -1):\n",
        "      temp_sum = sum(U[_i][_k] * x[_k] for _k in range(_i+1, size))\n",
        "      try:\n",
        "         x[_i] = round(((y[_i] - temp_sum) / U[_i][_i]), r)\n",
        "         \n",
        "      except ZeroDivisionError:\n",
        "         pass\n",
        "   return x\n",
        "   \n",
        "def lu(A):\n",
        "  size = len(A)\n",
        "\n",
        "  L = [[0 for _ in range(size)] for _ in range(size)]\n",
        "  U = [[0 for _ in range(size)] for _ in range(size)]\n",
        "\n",
        "  for j in range(size):\n",
        "    L[j][j] = 1\n",
        "\n",
        "    for i in range(j + 1):\n",
        "      s1 = sum(U[k][j] * L[i][k] for k in range(i))\n",
        "      U[i][j] = A[i][j] - s1\n",
        "\n",
        "    for i in range(j, size):\n",
        "      s2 = sum(U[k][j] * L[i][k] for k in range(j))\n",
        "      L[i][j] = (A[i][j] - s2) / U[j][j]\n",
        "    \n",
        "  return L, U"
      ],
      "execution_count": null,
      "outputs": []
    },
    {
      "cell_type": "markdown",
      "metadata": {
        "id": "hxQSQ7ZWe8xf"
      },
      "source": [
        "##Gauss-Jacobi"
      ]
    },
    {
      "cell_type": "code",
      "metadata": {
        "id": "qWunfvKOfBNY"
      },
      "source": [
        "def gauss_jacobi(A, b, iter_max, tol, x=None):\n",
        "  n = len(A)\n",
        "  list = []\n",
        "\n",
        "  if x is None:\n",
        "    x = np.zeros(len(A[0]))\n",
        "\n",
        "  v = np.zeros(len(A[0]))\n",
        "\n",
        "  for iter in range(iter_max):\n",
        "    for i in range(n):\n",
        "      sum = 0\n",
        "      for j in range(n):\n",
        "        if i != j: \n",
        "          sum += A[i, j] * x[j]\n",
        "      v[i] = (b[i] - sum) / A[i, i]\n",
        "    norma_nun, norma_den = 0, 0\n",
        "    for i in range(n):\n",
        "      t = abs(v[i] - x[i])\n",
        "      if t > norma_nun: norma_nun = t\n",
        "      if abs(v[i]) > norma_den: norma_den = abs(v[i])\n",
        "      x[i] = v[i]\n",
        "    norma_rel = norma_nun / norma_den\n",
        "    list.append(x.tolist())\n",
        "    if norma_rel <= tol: break\n",
        "  return [list, len(list)]"
      ],
      "execution_count": null,
      "outputs": []
    },
    {
      "cell_type": "markdown",
      "metadata": {
        "id": "nsLHTpsTfDTX"
      },
      "source": [
        "##Gauss-Seidel"
      ]
    },
    {
      "cell_type": "code",
      "metadata": {
        "id": "u1k2NmpufGF4"
      },
      "source": [
        "def gauss_seidel(A, b, iter_max, tol, x=None):\n",
        "  n = len(A)\n",
        "  list = []\n",
        "\n",
        "  if x is None:\n",
        "        x = np.zeros(len(A[0]))\n",
        "\n",
        "  v = np.zeros(len(A[0]))\n",
        "\n",
        "  for iter in range(iter_max):\n",
        "    norma_nun, norma_den = 0, 0\n",
        "\n",
        "    for i in range(n):\n",
        "      sum = 0\n",
        "      for j in range(n):\n",
        "        if i != j:\n",
        "          sum += A[i, j] * x[j]\n",
        "      v[i] = x[i]\n",
        "      x[i] = (b[i] - sum) / A[i, i]\n",
        "      t = abs(v[i] - x[i])\n",
        "\n",
        "      if t > norma_nun: norma_nun = t\n",
        "      if abs(x[i]) > norma_den: norma_den = abs(x[i])\n",
        "    \n",
        "    norma_rel = norma_nun / norma_den\n",
        "    list.append(x.tolist())\n",
        "    if norma_rel <= tol: break\n",
        "  return [list, len(list)]"
      ],
      "execution_count": null,
      "outputs": []
    },
    {
      "cell_type": "markdown",
      "metadata": {
        "id": "1wje0dmreLpQ"
      },
      "source": [
        "# Relatório 2\n"
      ]
    },
    {
      "cell_type": "markdown",
      "metadata": {
        "id": "ySK8ByuPeLAD"
      },
      "source": [
        "##Questão 1 –\n",
        " ![image.png](data:image/png;base64,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)"
      ]
    },
    {
      "cell_type": "markdown",
      "metadata": {
        "id": "YESJm58ifaFO"
      },
      "source": [
        "(a) Faça a representação geométrica das equações dos SELAs"
      ]
    },
    {
      "cell_type": "markdown",
      "metadata": {
        "id": "pUSiD2WSkvzf"
      },
      "source": [
        "-1,1x1 + 10x2 = 120 <br>\n",
        "-2x1 + 17,4x2 = 174"
      ]
    },
    {
      "cell_type": "code",
      "metadata": {
        "colab": {
          "base_uri": "https://localhost:8080/",
          "height": 265
        },
        "id": "T0SP_0Nwcfsw",
        "outputId": "a1e04c3a-5b77-4606-963e-f150de8717a7"
      },
      "source": [
        "#Isolei uma das variaveis para conseguir aplicar a função lambda e assim gerar o gráfico da reta\n",
        "eq1 = lambda x2: -((1200 - 100 * x2) / 11)\n",
        "eq2 = lambda x2: -((87*(-x2 + 10)) / 10)\n",
        "curva = np.linspace(0, 1000, 10000)\n",
        "valores = [eq1(valor) for valor in curva]\n",
        "valores2 = [eq2(valor) for valor in curva]\n",
        "plt.plot(curva, valores, linestyle='-', marker='o')\n",
        "plt.plot(curva, valores2, linestyle='-', marker='o')\n",
        "plt.grid()\n",
        "plt.show()\n"
      ],
      "execution_count": null,
      "outputs": [
        {
          "output_type": "display_data",
          "data": {
            "image/png": "[encoded data removed]",
            "text/plain": [
              "<Figure size 432x288 with 1 Axes>"
            ]
          },
          "metadata": {
            "needs_background": "light"
          }
        }
      ]
    },
    {
      "cell_type": "markdown",
      "metadata": {
        "id": "SpswF2dhlDuZ"
      },
      "source": [
        "0,52x1 - x2 = -9,5 <br>\n",
        "1,02x1 - 2x2 = -18,8"
      ]
    },
    {
      "cell_type": "code",
      "metadata": {
        "colab": {
          "base_uri": "https://localhost:8080/",
          "height": 265
        },
        "id": "g9aDFmr0lGAf",
        "outputId": "a773b693-9c07-46cf-ee01-0329582ab124"
      },
      "source": [
        "#Isolei uma das variaveis para conseguir aplicar a função lambda e assim gerar o gráfico da reta\n",
        "eq1 = lambda x2: (25 * (2 * x2 - 19)) / 26\n",
        "eq2 = lambda x2: (20 * (5 * x2 - 47)) / 51\n",
        "curva = np.linspace(-15, 15, 100000)\n",
        "valores = [eq1(valor) for valor in curva]\n",
        "valores2 = [eq2(valor) for valor in curva]\n",
        "plt.plot(curva, valores, linestyle='-', marker='o')\n",
        "plt.plot(curva, valores2, linestyle='-', marker='o')\n",
        "plt.grid()\n",
        "plt.show()"
      ],
      "execution_count": null,
      "outputs": [
        {
          "output_type": "display_data",
          "data": {
            "image/png": "[encoded data removed]",
            "text/plain": [
              "<Figure size 432x288 with 1 Axes>"
            ]
          },
          "metadata": {
            "needs_background": "light"
          }
        }
      ]
    },
    {
      "cell_type": "markdown",
      "metadata": {
        "id": "P5xSa5h-gmio"
      },
      "source": [
        "(b) Resolva os SELAs pelo método de Eliminação de Gauss."
      ]
    },
    {
      "cell_type": "markdown",
      "metadata": {
        "id": "iAQY9C0KfrAg"
      },
      "source": [
        "-1,1x1 + 10x2 = 120 <br>\n",
        "-2x1 + 17,4x2 = 174"
      ]
    },
    {
      "cell_type": "code",
      "metadata": {
        "id": "PnVmpjipefiX",
        "colab": {
          "base_uri": "https://localhost:8080/"
        },
        "outputId": "f9b23e5d-7c60-4648-80bd-1366f265e3e1"
      },
      "source": [
        "A = np.array([[-1.1, 10],\n",
        "             [-2, 17.4]], dtype='float64')\n",
        "b = np.array([[120], [174]], dtype='float64')\n",
        "print('Eliminação de Gauss (sem pivoteamento)\\n', gauss(A, b))"
      ],
      "execution_count": null,
      "outputs": [
        {
          "output_type": "stream",
          "name": "stdout",
          "text": [
            "Eliminação de Gauss (sem pivoteamento)\n",
            " [[404.6512]\n",
            " [ 56.5116]]\n"
          ]
        }
      ]
    },
    {
      "cell_type": "markdown",
      "metadata": {
        "id": "w4Y9xrMGg5jA"
      },
      "source": [
        "0,52x1 - x2 = -9,5 <br>\n",
        "1,02x1 - 2x2 = -18,8"
      ]
    },
    {
      "cell_type": "code",
      "metadata": {
        "colab": {
          "base_uri": "https://localhost:8080/"
        },
        "id": "7VtlVg8mgv0Q",
        "outputId": "2e72943a-9494-4678-9289-e3a4d25de949"
      },
      "source": [
        "A = np.array([[0.52, -1],\n",
        "             [1.02, -2]], dtype='float64')\n",
        "b = np.array([[-9.5], [-18.8]], dtype='float64')\n",
        "print('Eliminação de Gauss (sem pivoteamento)\\n', gauss(A, b))"
      ],
      "execution_count": null,
      "outputs": [
        {
          "output_type": "stream",
          "name": "stdout",
          "text": [
            "Eliminação de Gauss (sem pivoteamento)\n",
            " [[-10. ]\n",
            " [  4.3]]\n"
          ]
        }
      ]
    },
    {
      "cell_type": "markdown",
      "metadata": {
        "id": "LFCZrxsk4lOM"
      },
      "source": [
        "##Questão 2 –\n",
        " ![image.png](data:image/png;base64,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)"
      ]
    },
    {
      "cell_type": "markdown",
      "metadata": {
        "id": "I_ynzyaE1_bt"
      },
      "source": [
        "(a) Mostre que o SELA tem solução aproximada x0 = (0,97; 1,98; −0,97; 1,00)"
      ]
    },
    {
      "cell_type": "code",
      "metadata": {
        "id": "NsEQcZT-4uxp",
        "colab": {
          "base_uri": "https://localhost:8080/"
        },
        "outputId": "16e38986-89b1-4f93-d914-129de0a9748a"
      },
      "source": [
        "x = np.array([[0.97],[1.98],[-0.97],[1.00]], dtype='float64')\n",
        "print(\"Diferenças entre o valor real da equação e a solução aproximada encontrada através vetor x0: \")\n",
        "print(abs(16.4 - (8.7 * x[0] + 3.0 * x[1] + 9.3 * x[2] + 11.0 * x[3])))\n",
        "print(abs(-49.7 - (24.5 * x[0] - 8.8 * x[1] + 11.5 * x[2] - 45.1 * x[3])))\n",
        "print(abs(-80.8 - (52.3 * x[0] - 84.0 * x[1] - 23.5 * x[2] + 11.4 * x[3])))\n",
        "print(abs(-106.3 - (21.0 * x[0] - 81.0 * x[1] - 13.2 * x[2] + 21.5 * x[3])))"
      ],
      "execution_count": null,
      "outputs": [
        {
          "output_type": "stream",
          "name": "stdout",
          "text": [
            "Diferenças entre o valor real da equação e a solução aproximada encontrada através vetor x0: \n",
            "[0.042]\n",
            "[0.214]\n",
            "[0.594]\n",
            "[0.594]\n"
          ]
        }
      ]
    },
    {
      "cell_type": "markdown",
      "metadata": {
        "id": "aNgDhvdUxISu"
      },
      "source": [
        "(b) Refina esta solução, retendo durante os cálculos duas casas decimais"
      ]
    },
    {
      "cell_type": "code",
      "metadata": {
        "id": "ZBykaoMxxLad",
        "colab": {
          "base_uri": "https://localhost:8080/"
        },
        "outputId": "dbdd36be-b7fc-4e41-9dcc-debc34f5ba28"
      },
      "source": [
        "A = np.array([[8.7, 3.0, 9.3, 11.0],\n",
        "              [24.5, -8.8, 11.5, -45.1],\n",
        "              [52.3, -84.0, -23.5, 11.4],\n",
        "              [21.0, -81.00, -13.2, 21.5]], dtype='float64')\n",
        "\n",
        "b = np.array([16.4, -49.7, -80.8, -106.30], dtype='float64')\n",
        "L, U = lu(A)\n",
        "print('Fatoração LU:\\n', solve(L, U, b, 2)) #O ultimo parametro é utilizado para reter as casas decimais durante o calculo do vetor solução"
      ],
      "execution_count": null,
      "outputs": [
        {
          "output_type": "stream",
          "name": "stdout",
          "text": [
            "Fatoração LU:\n",
            " [1.0, 2.0, -1.0, 1.0]\n"
          ]
        }
      ]
    },
    {
      "cell_type": "markdown",
      "metadata": {
        "id": "oz27YBGa40x7"
      },
      "source": [
        "## Questão 3 – \n",
        "![image.png](data:image/png;base64,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)"
      ]
    },
    {
      "cell_type": "code",
      "metadata": {
        "id": "YTxoIvXk41RW",
        "colab": {
          "base_uri": "https://localhost:8080/"
        },
        "outputId": "912a1942-86cf-4812-8946-f2d4c36b99ca"
      },
      "source": [
        "A = np.array([[3.0, -0.1, -0.2],\n",
        "              [0.1, 7.0, -0.3],\n",
        "              [0.3, -0.2, 10]], dtype='float64')\n",
        "\n",
        "b = np.array([7.85, -19.3, 71.4], dtype='float64')\n",
        "L, U = lu(A)\n",
        "print('Fatoração LU:\\n', solve(L, U, b, 5))"
      ],
      "execution_count": null,
      "outputs": [
        {
          "output_type": "stream",
          "name": "stdout",
          "text": [
            "Fatoração LU:\n",
            " [3.0, -2.5, 7.0]\n"
          ]
        }
      ]
    },
    {
      "cell_type": "markdown",
      "metadata": {
        "id": "qCoibUqY4_Wq"
      },
      "source": [
        "##Questão 4 – \n",
        "![image.png](data:image/png;base64,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)"
      ]
    },
    {
      "cell_type": "code",
      "metadata": {
        "id": "KSvKLU6c4_E1",
        "colab": {
          "base_uri": "https://localhost:8080/"
        },
        "outputId": "168992ad-ce48-4709-ca65-494d4152507d"
      },
      "source": [
        "A = np.array([[-3, 1, 12],\n",
        "              [6, -1, -1],\n",
        "              [6, 9, 1]], dtype='float64')\n",
        "\n",
        "b = np.array([50, 3, 40], dtype='float64')\n",
        "\n",
        "\n",
        "print('Gauss-Jacobi:\\n', gauss_jacobi(A, b, 10, 0.05))\n",
        "print('Gauss-Seidel:\\n', gauss_seidel(A, b, 10, 0.05))"
      ],
      "execution_count": null,
      "outputs": [
        {
          "output_type": "stream",
          "name": "stdout",
          "text": [
            "Gauss-Jacobi:\n",
            " [[[-16.666666666666668, -3.0, 40.0], [142.33333333333334, -143.0, 167.0], [603.6666666666666, 684.0, 473.0], [2103.3333333333335, 3146.0, -9738.0], [-37920.0, 22355.0, -40894.0], [-156141.0, -186629.0, 26365.0], [43233.666666666664, -963214.0, 2616547.0], [10145100.0, -2357148.0, 8409564.0], [32852523.333333332, 52461033.0, -39656228.0], [-141137917.66666666, 236771365.0, -669264397.0]], 10]\n",
            "Gauss-Seidel:\n",
            " [[[-16.666666666666668, -103.0, 1067.0], [4217.0, 24232.0, -243350.0], [-965339.3333333334, -5548689.0, 55730277.0], [221071528.33333334, 1270698890.0, -12762719140.0], [-50627310280.0, -291001142543.0, 2922774144607.0], [11594096197563.666, 66641803040772.0, -669340804552290.0], [-2655149283862252.5, -1.5261554898621228e+16, 1.532848897907646e+17], [6.080523741968513e+17, 3.4950293553903437e+18, -3.5103578443694203e+19], [-1.3924930398964667e+20, -8.003922454941859e+20, 8.039026033385552e+21], [3.1889306718377477e+22, 1.832968142768793e+23, -1.8410071688021788e+24]], 10]\n"
          ]
        }
      ]
    },
    {
      "cell_type": "markdown",
      "metadata": {
        "id": "7TZHrpLxxm0t"
      },
      "source": [
        "Ao tentar resolver o SELA pela primeira vez utilizando os métodos de Gauss-Jacobi e Gauss-Seidel mantendo a matriz da forma original foi possível observar que ambos algoritmos não tiveram uma convergência para os resultados esperados com precisão de 0,05. Mesmo que o número de iterações tenha sido limitado em 10, um número relativamente pequeno, acreditava que haveria uma convergência mais rápida para a solução real do SELA. Abaixo tentarei reorganizar as equações para assim conseguir garantir a convergência."
      ]
    },
    {
      "cell_type": "code",
      "metadata": {
        "colab": {
          "base_uri": "https://localhost:8080/"
        },
        "id": "bk1kfA_dyl3V",
        "outputId": "4c0028a8-c3b6-40ee-aa30-2421a4650a5c"
      },
      "source": [
        "A = np.array([[6, -1, -1],\n",
        "              [6, 9, 1],\n",
        "              [-3, 1, 12]], dtype='float64')\n",
        "\n",
        "b = np.array([3, 40, 50], dtype='float64')\n",
        "\n",
        "\n",
        "print('Gauss-Jacobi:\\n', gauss_jacobi(A, b, 10, 0.05))\n",
        "print('Gauss-Seidel:\\n', gauss_seidel(A, b, 10, 0.05))"
      ],
      "execution_count": null,
      "outputs": [
        {
          "output_type": "stream",
          "name": "stdout",
          "text": [
            "Gauss-Jacobi:\n",
            " [[[0.5, 4.444444444444445, 4.166666666666667], [1.9351851851851851, 3.6481481481481484, 3.9212962962962963], [1.7615740740740742, 2.7186213991769552, 4.34645061728395], [1.6775120027434844, 2.7871227709190673, 4.380508401920439]], 4]\n",
            "Gauss-Seidel:\n",
            " [[[0.5, 4.111111111111111, 3.949074074074074], [1.8433641975308641, 2.7767489711934155, 4.396111968449931], [1.695476823273891, 2.8256696768785243, 4.355063399411929]], 3]\n"
          ]
        }
      ]
    },
    {
      "cell_type": "markdown",
      "metadata": {
        "id": "7f4e2_sBy5-j"
      },
      "source": [
        "Ao colocar a primeira equação do SELA na última posição e subir as outras respectivamente, conseguimos obter uma ótima convergência para a solução real, além disso foi possível observar que o método de Gauss-Seidel em apenas 3 iterações conseguiu obter a precisão definida no exercício de 0,05, enquanto o método de Gauss-Jacobi obteve a precisão desejada em 4 iterações. Outro ponto a se observar é que o método de Gauss-Seidel além de menos iterações conseguiu chegar mais próximo a solução real do SELA do que o método de Gauss-Jacobi. Podemos assim concluir que para esse SELA o metódo de Gauss-Seidel teve um desempenho superir ao de Gauss-Jacobi."
      ]
    }
  ]
}